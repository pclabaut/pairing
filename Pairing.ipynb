{
 "cells": [
  {
   "cell_type": "code",
   "execution_count": 1,
   "id": "ff81fcf7",
   "metadata": {},
   "outputs": [],
   "source": [
    "import numpy as np \n",
    "import pandas as pd"
   ]
  },
  {
   "cell_type": "code",
   "execution_count": 2,
   "id": "6886bf98",
   "metadata": {},
   "outputs": [],
   "source": [
    "import matplotlib.pyplot as plt\n",
    "import random"
   ]
  },
  {
   "cell_type": "code",
   "execution_count": 3,
   "id": "63ae5a94",
   "metadata": {},
   "outputs": [],
   "source": [
    "with pd.ExcelFile(\"mypairing.xlsx\") as source_us :\n",
    "    estimate = [pd.read_excel(source_us, i).to_numpy() for i in range(0,4)]\n",
    "\n",
    "###Structure\n",
    "##1 feuille par scénario\n",
    "#lignes = nos bt (0 à 7)\n",
    "#colonne = leurs bt (0 à 7)\n",
    "#case = score de notre joueur (de 0 à 20)\n",
    "\n",
    "#On se base pour le moment sur un unique estimate partagé"
   ]
  },
  {
   "cell_type": "code",
   "execution_count": 4,
   "id": "ddd2c50e",
   "metadata": {},
   "outputs": [],
   "source": [
    "def calculate(matchs,estimate) :  #Retourne le score attendu correspondant a un ensemble de 8 matchs\n",
    "    result = 0\n",
    "    for s in range(0,4) :  #Unpack les senarii\n",
    "        for p in range(0,2) :  #Unpack les parties par sénario\n",
    "            bt_us = int(matchs[s][p][0])\n",
    "            bt_them = int(matchs[s][p][1])\n",
    "            result += estimate[s][bt_us,bt_them] #score attendue de notre bt match[s][p][0] contre leur bt match[s][p][1]\n",
    "    return min(120,result)  #Cap a 120"
   ]
  },
  {
   "cell_type": "code",
   "execution_count": 5,
   "id": "b8a0997d",
   "metadata": {},
   "outputs": [],
   "source": [
    "def quick_opt_blind_us_2(l_us, l_them, matchs, estimate) : #1er algo basique pour tenter de trouver le meilleur pick (nous)\n",
    "    n_tries = 100      #Nombre de combinaisons aléatoires envisagées a chaque coup\n",
    "    rem = len(l_us)   \n",
    "    best_pick_them = l_us[0]\n",
    "    max_res = 0\n",
    "    \n",
    "    for np in l_us :  #On donne une chance a chaque BT restant en main\n",
    "        res = 0\n",
    "        for i in range(0,n_tries):  #On calcule n_tries combinaison possible si on choisit ce bt là\n",
    "            m = matchs.copy()\n",
    "            l_us_rest = l_us.copy()\n",
    "            l_us_rest.remove(np)\n",
    "            mouv_them = random.sample(l_them, k=rem)   #On prends tout les futurs autres pick au hasard...\n",
    "            mouv_us = [np]+random.sample(l_us_rest, k=rem-1)   #... pour les deux joueurs\n",
    "            for j in range(0,int(rem/2)):\n",
    "                m.append([[mouv_us[int(0+j*2)], mouv_them[int(0+j*2)]],[mouv_us[int(1+j*2)], mouv_them[int(1+j*2)]]])\n",
    "            res += calculate(m, estimate)   #On recompose le set de 8 match et on calcul son score pour chaque combinaison\n",
    "\n",
    "        m_res = res/n_tries  #On calcule la moyenne résultante pour chaque bt proposé à ce coup\n",
    "        if m_res > max_res :\n",
    "            max_res = m_res\n",
    "            best_pick_us = np  #On détermine, en moyenne, le meilleur BT pour ce coup\n",
    "            \n",
    "    return best_pick_us"
   ]
  },
  {
   "cell_type": "code",
   "execution_count": 6,
   "id": "9adebf3b",
   "metadata": {},
   "outputs": [],
   "source": [
    "def quick_opt_blind_opponent_2(l_us, l_them, matchs, estimate_opp) : #Voir au dessus. Même principe mais en minimisant le score (donc enmaximisant celui de l'adversaire)\n",
    "    rem = len(l_us)   \n",
    "    best_pick_them = l_them[0]\n",
    "    min_res = 120\n",
    "    \n",
    "    for np in l_them :  \n",
    "        res = 0\n",
    "        for i in range(0,100):\n",
    "            m = matchs.copy()\n",
    "            l_them_rest = l_them.copy()\n",
    "            l_them_rest.remove(np)\n",
    "            mouv_us = random.sample(l_us, k=rem)\n",
    "            mouv_them = [np]+random.sample(l_them_rest, k=rem-1)\n",
    "            for j in range(0,int(rem/2)):\n",
    "                m.append([[mouv_us[int(0+j*2)], mouv_them[int(0+j*2)]],[mouv_us[int(1+j*2)], mouv_them[int(1+j*2)]]])\n",
    "            res += calculate(m, estimate_opp)\n",
    "\n",
    "        m_res = res/100\n",
    "        if m_res < min_res :\n",
    "            min_res = m_res\n",
    "            best_pick_them = np\n",
    "            \n",
    "    return best_pick_them\n",
    "        "
   ]
  },
  {
   "cell_type": "code",
   "execution_count": null,
   "id": "262fad34",
   "metadata": {},
   "outputs": [],
   "source": [
    "def quick_opt_blind_us_3(l_us, l_them, matchs, estimate, a_them) : #2eme algo basique pour pick le meilleur parmis leurs 2 attaquants\n",
    "    n_tries = 100      #Nombre de combinaisons aléatoires envisagées a chaque coup\n",
    "    rem = len(l_us)   \n",
    "    best_pick_them = l_us[0]\n",
    "    max_res = 0\n",
    "    \n",
    "    for o in a_them :  #On teste les deux possibilitées\n",
    "        res = 0\n",
    "        for i in range(0,n_tries):  #On calcule n_tries combinaison possible si on choisit ce bt là\n",
    "            m = matchs.copy()\n",
    "            l_us_rest = l_us.copy()\n",
    "            l_us_rest.remove(np)\n",
    "            \n",
    "            \n",
    "            \n",
    "            \n",
    "            \n",
    "            mouv_them = random.sample(l_them, k=rem)   #On prends tout les futurs autres pick au hasard...\n",
    "            mouv_us = [np]+random.sample(l_us_rest, k=rem-1)   #... pour les deux joueurs\n",
    "            \n",
    "            \n",
    "            \n",
    "            \n",
    "            for j in range(0,int(rem/2)):\n",
    "                m.append([[mouv_us[int(0+j*2)], mouv_them[int(0+j*2)]],[mouv_us[int(1+j*2)], mouv_them[int(1+j*2)]]])\n",
    "            res += calculate(m, estimate)   #On recompose le set de 8 match et on calcul son score pour chaque combinaison\n",
    "\n",
    "        m_res = res/n_tries  #On calcule la moyenne résultante pour chaque bt proposé à ce coup\n",
    "        if m_res > max_res :\n",
    "            max_res = m_res\n",
    "            best_pick_us = np  #On détermine, en moyenne, le meilleur BT pour ce coup\n",
    "            \n",
    "    return best_pick_us"
   ]
  },
  {
   "cell_type": "code",
   "execution_count": 7,
   "id": "b5fc89cd",
   "metadata": {},
   "outputs": [],
   "source": [
    "def turn12(l_us, l_them, matchs, estimate): #Pour le sénario 1 ou 2\n",
    "    \n",
    "    #choix des défenseurs d_us \n",
    "    #et d_them\n",
    "    d_us = quick_opt_blind_us_2(l_us, l_them, matchs, estimate)  #Ici, on utilise le premier algo pour notre choix\n",
    "    d_them = quick_opt_blind_opponent_2(l_us, l_them, matchs, estimate) #Et là, pour leur choix\n",
    "    #d_us = random.choice(l_us)                   #Alternative en random\n",
    "    #d_them = random.choice(l_them)\n",
    "    \n",
    "    l_us.remove(d_us) #On retire les defenseurs proposés des BT disponibles de chaque équipe\n",
    "    l_them.remove(d_them)\n",
    "    \n",
    "    #choix des attaquants a_us (deux) \n",
    "    #choix a_them (deux)\n",
    "    a_us = random.sample(l_us,k=2)                    #!!! Algo a dev\n",
    "    a_them = random.sample(l_them,k=2)                #!!! Algo a dev\n",
    "    \n",
    "    #choix de l'attaquant pick_us parmis les 2 a_them proposés  \n",
    "    #choix de l'attaquant pick_them parmis les 2 a_us proposés  \n",
    "    pick_us = random.choice(a_them)                   #!!! Algo a dev\n",
    "    pick_them = random.choice(a_us)                   #!!! Algo a dev\n",
    "    \n",
    "    l_us.remove(pick_them) #On retire les attaquants choisis des disponibles de chaque équipe\n",
    "    l_them.remove(pick_us)\n",
    "    \n",
    "    match = [[d_us, pick_us],[pick_them, d_them]]\n",
    "    ###les matchs sont une liste(4) [1/scenario] de liste (2) [1/partie] de listes (2) [1/bt]\n",
    "    ## Chaque liste(2) de partie est donnée dans l'ordre : [notre bt, leur bt]\n",
    "    # Chaque tour de scénario renvoie deux parties \"match\" a concaténer a la liste des \"matchs\"\n",
    "    \n",
    "    return (l_us, l_them, match)"
   ]
  },
  {
   "cell_type": "code",
   "execution_count": 8,
   "id": "effbd120",
   "metadata": {},
   "outputs": [],
   "source": [
    "def turn34(l_us, l_them, matchs, estimate) :\n",
    "    \n",
    "    #choix des défenseurs d3_us \n",
    "    #et d3_them\n",
    "    d3_us = quick_opt_blind_us_2(l_us, l_them, matchs, estimate) #Ici, on utilise le premier algo pour notre choix\n",
    "    d3_them = quick_opt_blind_opponent_2(l_us, l_them, matchs, estimate) #Et là, pour leur choix\n",
    "    #d3_us = random.choice(l_us)                   #Alternative en random\n",
    "    #d3_them = random.choice(l_them)\n",
    "    \n",
    "    l_us.remove(d3_us) #On retire les defenseurs proposés des BT disponibles de chaque équipe\n",
    "    l_them.remove(d3_them)\n",
    "\n",
    "    #choix des attaquants a_us (deux) \n",
    "    #choix a_them (deux)\n",
    "    a_us = random.sample(l_us,k=2)                    #!!! Algo a dev\n",
    "    a_them = random.sample(l_them,k=2)                #!!! Algo a dev\n",
    "    \n",
    "    l_us.remove(a_us[0]) #On retire cette fois-ci les 2 bt attaquants des disponibles de chaque équipe\n",
    "    l_us.remove(a_us[1])\n",
    "    l_them.remove(a_them[0])\n",
    "    l_them.remove(a_them[1])\n",
    "    \n",
    "    d4_us = l_us[0] #Le dernier Bt restant de chaque team devient le défenseur du dernièr scénario\n",
    "    d4_them = l_them[0]    \n",
    "    \n",
    "    #choix parmis les attaquants proposés de celui qui sera sur le 3 et sur le 4eme sénario : pick_us 3 ou 4\n",
    "    #pour l'adversaire pick_them 3 ou 4\n",
    "    [pick3_us, pick4_us] = random.sample(a_them, 2)     #!!! Algo a dev\n",
    "    [pick3_them, pick4_them] = random.sample(a_us, 2)   #!!! Algo a dev\n",
    "\n",
    "    #Reconstitution des matchs pour les scénario 3 et 4\n",
    "    match3 = [[d3_us, pick3_us],[pick3_them, d3_them]]\n",
    "    match4 = [[d4_us, pick4_us],[pick4_them, d4_them]]\n",
    "    \n",
    "    return match3, match4"
   ]
  },
  {
   "cell_type": "code",
   "execution_count": 10,
   "id": "fc3c6ad4",
   "metadata": {},
   "outputs": [
    {
     "data": {
      "image/png": "[encoded data removed]",
      "text/plain": [
       "<Figure size 432x288 with 1 Axes>"
      ]
     },
     "metadata": {
      "needs_background": "light"
     },
     "output_type": "display_data"
    }
   ],
   "source": [
    "res = []  #Liste de tout les scores d'équipes\n",
    "\n",
    "for t in range(0,100) :  #Nombre d'essai de pairing\n",
    "\n",
    "    l_us = list(range(0,8)) #bt restants pour nous \n",
    "    l_them = list(range(0,8)) #bt restants pour eux\n",
    "    matchs = []  #Initialisation du set des matchs à jouer\n",
    "\n",
    "    l_us, l_them, pairing = turn12(l_us, l_them, matchs, estimate) #Tour 1 \n",
    "    matchs.append(pairing) #On concatene les resultats\n",
    "\n",
    "    l_us, l_them, pairing = turn12(l_us, l_them, matchs, estimate) #Tour 2\n",
    "    matchs.append(pairing) #On concatene les resultats\n",
    "    \n",
    "    match3, match4 = turn34(l_us, l_them, matchs, estimate) #Tour 3 + 4\n",
    "    matchs.append(match3)\n",
    "    matchs.append(match4)\n",
    "\n",
    "    res.append(calculate(matchs, estimate))  #Calcule du score d'équipe\n",
    "    \n",
    "plt.hist(res,bins=120)  #Distribution des scores d'équipes\n",
    "plt.show()"
   ]
  },
  {
   "cell_type": "code",
   "execution_count": 12,
   "id": "ad27d574",
   "metadata": {},
   "outputs": [
    {
     "name": "stdout",
     "output_type": "stream",
     "text": [
      "76.68 120 28 18.798340352275783\n"
     ]
    }
   ],
   "source": [
    "r = np.asarray(res)\n",
    "print(r.mean(), r.max(), r.min(), r.std())"
   ]
  }
 ],
 "metadata": {
  "kernelspec": {
   "display_name": "Python 3",
   "language": "python",
   "name": "python3"
  },
  "language_info": {
   "codemirror_mode": {
    "name": "ipython",
    "version": 3
   },
   "file_extension": ".py",
   "mimetype": "text/x-python",
   "name": "python",
   "nbconvert_exporter": "python",
   "pygments_lexer": "ipython3",
   "version": "3.8.8"
  }
 },
 "nbformat": 4,
 "nbformat_minor": 5
}
